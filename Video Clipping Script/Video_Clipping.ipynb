{
 "cells": [
  {
   "cell_type": "code",
   "execution_count": 23,
   "metadata": {},
   "outputs": [
    {
     "name": "stdout",
     "output_type": "stream",
     "text": [
      "Moviepy - Running:\n",
      ">>> \"+ \" \".join(cmd)\n",
      "Moviepy - Command successful\n"
     ]
    }
   ],
   "source": [
    "from moviepy.video.io.ffmpeg_tools import ffmpeg_extract_subclip\n",
    "vid_name=\"Parasyte -The Maxim- - S01E19 - In Cold Blood.mkv\"\n",
    "#times in seconds\n",
    "start_time=12.25\n",
    "end_time=12.51\n",
    "vid_type=vid_name.split('.')[-1] #get the video type (mkv, mp4, or whatever else)\n",
    "start_time=(int(start_time)*60)+(start_time%1)*100\n",
    "end_time=(int(end_time)*60)+(end_time%1)*100\n",
    "ffmpeg_extract_subclip(vid_name, start_time,end_time, targetname=\"test2.\"+vid_type)"
   ]
  },
  {
   "cell_type": "code",
   "execution_count": null,
   "metadata": {},
   "outputs": [],
   "source": []
  }
 ],
 "metadata": {
  "kernelspec": {
   "display_name": "Python 3",
   "language": "python",
   "name": "python3"
  },
  "language_info": {
   "codemirror_mode": {
    "name": "ipython",
    "version": 3
   },
   "file_extension": ".py",
   "mimetype": "text/x-python",
   "name": "python",
   "nbconvert_exporter": "python",
   "pygments_lexer": "ipython3",
   "version": "3.8.3"
  }
 },
 "nbformat": 4,
 "nbformat_minor": 4
}
