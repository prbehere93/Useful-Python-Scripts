{
 "cells": [
  {
   "cell_type": "markdown",
   "metadata": {},
   "source": [
    "# Youtube Downloader (playlist or single link)\n",
    "\n",
    "#### Disclaimer - this script is meant for personal use"
   ]
  },
  {
   "cell_type": "markdown",
   "metadata": {},
   "source": [
    "Used '%env api_key=valueofkey' to set the api key"
   ]
  },
  {
   "cell_type": "code",
   "execution_count": 10,
   "metadata": {},
   "outputs": [],
   "source": [
    "#!pip install google-api-python-client"
   ]
  },
  {
   "cell_type": "code",
   "execution_count": 4,
   "metadata": {},
   "outputs": [
    {
     "data": {
      "text/plain": [
       "'UCKbkfKk65PZyRCzUwXOJung'"
      ]
     },
     "execution_count": 4,
     "metadata": {},
     "output_type": "execute_result"
    }
   ],
   "source": [
    "#Using the youtube api\n",
    "from googleapiclient.discovery import build\n",
    "api_key = %env api_key\n",
    "youtube = build('youtube', 'v3', developerKey=api_key)\n",
    "\n",
    "#get channel id from channel url\n",
    "url=\"https://www.youtube.com/channel/UCKbkfKk65PZyRCzUwXOJung\"\n",
    "url_id=url.split('/')[-1]\n",
    "url_id"
   ]
  },
  {
   "cell_type": "code",
   "execution_count": 5,
   "metadata": {},
   "outputs": [
    {
     "name": "stdout",
     "output_type": "stream",
     "text": [
      "Wall time: 911 ms\n"
     ]
    }
   ],
   "source": [
    "%%time\n",
    "# Getting all playlists from a channel\n",
    "channel_id=url_id\n",
    "pl_request=youtube.playlists().list(\n",
    "    part = \"snippet\",\n",
    "    channelId = channel_id,\n",
    "    maxResults = 200\n",
    ")\n",
    "pl_response = pl_request.execute()\n",
    "\n",
    "playlists = []\n",
    "while pl_request is not None:\n",
    "    pl_response = pl_request.execute()\n",
    "    playlists += pl_response[\"items\"]\n",
    "    pl_request = youtube.playlists().list_next(pl_request, pl_response)"
   ]
  },
  {
   "cell_type": "code",
   "execution_count": 6,
   "metadata": {},
   "outputs": [
    {
     "name": "stdout",
     "output_type": "stream",
     "text": [
      "CBW series:  Machine Learning workshops (MLE) May 25-26, 2021\n",
      "PL3izGL6oi0S_zXasgxccctQLNhIyVT_5o\n",
      "CBW series:  Pathway and Network Analysis workshops (PNA) May 10-12, 2021\n",
      "PL3izGL6oi0S-xaoH8p9LnJD8RQm8eNWF2\n",
      "Informatics and Statistics for Metabolomics 2020\n",
      "PL3izGL6oi0S-d3ngEfIVAU8RtJH5dclRs\n",
      "Informatics on High Throughput Sequencing 2012\n",
      "PL3izGL6oi0S_xMmr9L9tvX5Oss0Gd2x4A\n",
      "Informatics and Statistics for Metabolomics 2012\n",
      "PL3izGL6oi0S82pJqY60KuZSW77cOo3BhV\n",
      "Microarray Data Analysis 2013\n",
      "PL3izGL6oi0S_Oh5fXc6bMTVkOoJmJT007\n",
      "Pathway and Network Analysis of -omics Data 2013\n",
      "PL3izGL6oi0S-YFKQZJfRbaJe_kr23M0jx\n",
      "Informatics for RNA-Seq Analysis 2013\n",
      "PL3izGL6oi0S_N63aEd9vLnFM3pNYt9NGQ\n",
      "Informatics for RNA-Seq Analysis 2014 (Vancouver)\n",
      "PL3izGL6oi0S8TzpnZzBayOjWUykkzz66Y\n",
      "Informatics and Statistics for Metabolomics 2014\n",
      "PL3izGL6oi0S9_tVpKieiwUHO9VClV1H66\n",
      "Pathway and Network Analysis of -omics Data 2014\n",
      "PL3izGL6oi0S9RXO87UQ6RDU7BiyeGjKTI\n",
      "Informatics for RNA-Seq Analysis 2014 (Montreal)\n",
      "PL3izGL6oi0S9DX_G2KSZcV1-70qbEdCko\n",
      "Introduction to R 2015\n",
      "PL3izGL6oi0S_U7dp9SAztWrsivFaLaWJH\n",
      "Cancer Data and its Analysis 2015\n",
      "PL3izGL6oi0S_jCJXjgkTM57G0febv4cDy\n",
      "Analysis of Metagenomic Data 2015\n",
      "PL3izGL6oi0S8-BSewoUsoS9d1GspUfsjX\n",
      "Informatics for RNA-Seq Analysis 2015\n",
      "PL3izGL6oi0S-bCqt0qIJVZy7Y6IVZ1om0\n",
      "Infectious Disease Genomic Epidemiology 2018\n",
      "PL3izGL6oi0S8svosOiiqMwOFTgwyg7EaT\n",
      "Pathway and Network Analysis of -omics Data 2018\n",
      "PL3izGL6oi0S9D8o8XXOBKGnX0dXXHse0U\n",
      "Epigenomic Data Analysis 2018\n",
      "PL3izGL6oi0S_tm7_EDGWrToDLewnXyfs5\n",
      "Bioinformatics of Genomic Medicine 2018\n",
      "PL3izGL6oi0S9c3vcpEMQ1hc4eNEWVwIoj\n",
      "Informatics and Statistics for Metabolomics 2018\n",
      "PL3izGL6oi0S-WtHmL5s9qaK1VvO6_LNIH\n",
      "Analysis of Metagenomic Data 2018\n",
      "PL3izGL6oi0S_mH1C79CQNjVgCZy56WFoq\n",
      "Informatics for RNA-Seq Analysis 2018\n",
      "PL3izGL6oi0S_lif045bSwBgbdwb9I1Hdo\n",
      "Informatics and Statistics for Metabolomics 2015\n",
      "PL3izGL6oi0S8_0et4Ki-gDlgFrGilm_VG\n",
      "Informatics on High-Throughput Sequencing Data 2018\n",
      "PL3izGL6oi0S9iqPK0668I7bKPe-YUj4nc\n",
      "Exploratory Analysis of Biological Data using R 2018\n",
      "PL3izGL6oi0S9fqvtp6iqqRNE5m9zw1aaN\n",
      "Pathway and Network Analysis of -omic data 2015\n",
      "PL3izGL6oi0S-tZl2cUjRXZ5KJmCWIVhjg\n",
      "Introduction to R 2018\n",
      "PL3izGL6oi0S-h3swgRWK7qSxMHMamHemY\n",
      "Informatics on High Throughput Sequencing 2014\n",
      "PL3izGL6oi0S-ppidY6ljyv0pREH0qLpEC\n",
      "Informatics and Statistics for Metabolomics 2013\n",
      "PL3izGL6oi0S8O2pXJxJg9JAxVjvehUB48\n",
      "Informatics on High Throughput Sequencing 2015\n",
      "PL3izGL6oi0S-Hg9L6VTsiaLoAoVuUW9iJ\n",
      "Informatics on High Throughput Sequencing 2009\n",
      "PL3izGL6oi0S8mCtFHn2ElVFmLohxBQy3V\n",
      "Exploratory Analysis of Biological Data using R 2017\n",
      "PL3izGL6oi0S8xFSWke6nyZ9QeJnR7Hqnl\n",
      "Introduction to R 2017\n",
      "PL3izGL6oi0S_9NLNjxpXQ4kFXj_bAIHtA\n",
      "Bioinformatics for Cancer Genomics 2018\n",
      "PL3izGL6oi0S8TfxAY-UHhBBdSnVMU3wF6\n",
      "Working With Big Cancer Data in the Collaboratory Cloud 2017\n",
      "PL3izGL6oi0S_ngtZy_ZluBXBKpV8o0yUd\n",
      "Informatics on High-Throughput Sequencing Data 2013\n",
      "PL3izGL6oi0S8RDqhDBGU__NdH0D-TPCTG\n",
      "Interpreting Gene Lists from Omics Studies 2010\n",
      "PL3izGL6oi0S-WU7lrCQFnts_Zwdnn1Luk\n",
      "Interpreting Gene Lists from Omics Studies 2009\n",
      "PL3izGL6oi0S9sX1IF0BpzPvlSyUguolv4\n",
      "Flow Cytometry Data Analysis using R 2013\n",
      "PL3izGL6oi0S-_PfNHYKne2rhBawC5er_M\n",
      "Exploratory Data Analysis Essential Statistics using R\n",
      "PL3izGL6oi0S9c9EFJWIWyUUkHR93Qeru6\n",
      "High-Throughput Biology: From Sequence to Networks 2015\n",
      "PL3izGL6oi0S_ZuwdN9VQIIvHzntz6ATEE\n",
      "Clinical Biomarkers 2009\n",
      "PL3izGL6oi0S8IZynfMHXXL9I68hkssfrm\n",
      "Clinical Genomics and Biomarker Discovery 2010\n",
      "PL3izGL6oi0S9hBAOpLpAYt4xLwVeY8gsb\n",
      "Cancer Data and Its Analysis (CCRC) 2015\n",
      "PL3izGL6oi0S-3Z_uIxlA09hXlD_fMZUmh\n",
      "Bioinformatics for Cancer Genomics 2012\n",
      "PL3izGL6oi0S82NS9BWhJnGY-UIsUYEXSx\n",
      "Bioinformatics for Cancer Genomics 2011\n",
      "PL3izGL6oi0S_c8hnXgU-9mgplRB6jQ6Db\n",
      "Bioinformatics for Cancer Genomics 2015\n",
      "PL3izGL6oi0S-Q0PCJ8HW3QZy2-Yqwfouy\n",
      "Informatics for RNA-seq Analysis 2017\n",
      "PL3izGL6oi0S-MYZDRy9EJwMUwbI0Laaog\n",
      "Bioinformatics for Cancer Genomics 2014\n",
      "PL3izGL6oi0S-roRT49_8YmdcqR1mgRS9t\n",
      "Bioinformatics for Cancer Genomics 2013\n",
      "PL3izGL6oi0S9TtQyRnfNlINigZa1VR3Ej\n",
      "Pathway and Network Analysis of Omics Data 2017\n",
      "PL3izGL6oi0S8ElI8Qa4rQtvw38awD_0gI\n",
      "Epigenomic Data Analysis 2017\n",
      "PL3izGL6oi0S9Gv07LwWpNgZAr3v3_Sjka\n",
      "Introduction to R 2017\n",
      "PL3izGL6oi0S9bcIFnIGU9CQ2wgAzfuDv2\n",
      "Informatics and Statistics for Metabolomics 2017\n",
      "PL3izGL6oi0S-19NQy6JD_qrx1rybsxjxW\n",
      "Informatics on High-Throughput Sequencing Data 2017\n",
      "PL3izGL6oi0S-Y9UjSwp_Ia46T-98VQ_6a\n",
      "Bioinformatics of Genomic Medicine 2017\n",
      "PL3izGL6oi0S8JqErvo-OPPnmfTFaLB_4T\n",
      "Bioinformatics for Cancer Genomics 2017\n",
      "PL3izGL6oi0S_zm8XwX7kfXXGOb1mWOBSw\n",
      "Infectious Disease Genomic Epidemiology 2017\n",
      "PL3izGL6oi0S9SXZA8ddSctbzuyouCu2uo\n",
      "Microbiome Summer School: Big Data Analytics for Omics Science 2017\n",
      "PL3izGL6oi0S8Uh2-79e8IuHnuuZhH9gIf\n",
      "High-Throughput Biology - From Sequence to Networks 2017\n",
      "PL3izGL6oi0S9XZMev3cMZBVP1t1vsvm4u\n",
      "Bioinformatics for Big Data: Cloud Computing on the Human Genome 2016\n",
      "PL3izGL6oi0S-5iyPMHWgU9UR0uwlGiYoq\n",
      "Introduction to R 2016\n",
      "PL3izGL6oi0S_iy864DJA91eeahvYD2XEV\n",
      "Exploratory Analysis of Biological Data using R 2016\n",
      "PL3izGL6oi0S8mDpENdfrx7cpSFcbtjSTc\n",
      "Bioinformatics for Cancer Genomics 2016\n",
      "PL3izGL6oi0S_Qhwn29LD66nYb-2YHf0z4\n",
      "Informatics for RNA-Seq Analysis 2016\n",
      "PL3izGL6oi0S849u7OZbX85WTyBxVdcpqx\n",
      "Pathway and Network Analysis of -Omics Data 2016\n",
      "PL3izGL6oi0S9amh6CzalbUo4ICcvZIWFO\n",
      "Epigenomic Data Analysis 2016\n",
      "PL3izGL6oi0S-CGCK0dPj0Mwt1XBWCCWcq\n",
      "Informatics on High-Throughput Sequencing Data 2016\n",
      "PL3izGL6oi0S-ENehFjvQmyiF5-Q00F71Q\n",
      "Informatics and Statistics for Metabolomics 2016\n",
      "PL3izGL6oi0S9M2gAD1FCuZVVO1re9aAZx\n",
      "Analysis of Metagenomic Data 2016\n",
      "PL3izGL6oi0S9ud1IZDHZWEHrHiWXoYn-2\n"
     ]
    }
   ],
   "source": [
    "#List of all playlist names and ID's\n",
    "for i in range(0,len(playlists)):\n",
    "    print(playlists[i]['snippet']['title'])\n",
    "    print(playlists[i]['id'])"
   ]
  },
  {
   "cell_type": "markdown",
   "metadata": {},
   "source": [
    "# Extracting all the urls from a single playlist"
   ]
  },
  {
   "cell_type": "code",
   "execution_count": 7,
   "metadata": {},
   "outputs": [],
   "source": [
    "playlist_id='PL3izGL6oi0S_zXasgxccctQLNhIyVT_5o'\n",
    "request2 = youtube.playlistItems().list(\n",
    "    part='snippet',\n",
    "    playlistId=playlist_id,\n",
    "    maxResults=50)\n",
    "\n",
    "response2 = request2.execute()"
   ]
  },
  {
   "cell_type": "code",
   "execution_count": 8,
   "metadata": {},
   "outputs": [],
   "source": [
    "#getting the list of playlist urls here\n",
    "pl_urls=[]\n",
    "for i in response2['items']:\n",
    "    pl_urls.append(f'https://www.youtube.com/watch?v={i[\"snippet\"][\"resourceId\"][\"videoId\"]}&list={playlist_id}&t=0s')"
   ]
  },
  {
   "cell_type": "code",
   "execution_count": 9,
   "metadata": {},
   "outputs": [
    {
     "data": {
      "text/plain": [
       "['https://www.youtube.com/watch?v=NyEWTDeBc0k&list=PL3izGL6oi0S_zXasgxccctQLNhIyVT_5o&t=0s',\n",
       " 'https://www.youtube.com/watch?v=IyCLrSnZaxc&list=PL3izGL6oi0S_zXasgxccctQLNhIyVT_5o&t=0s',\n",
       " 'https://www.youtube.com/watch?v=VZ_lQd9je4w&list=PL3izGL6oi0S_zXasgxccctQLNhIyVT_5o&t=0s',\n",
       " 'https://www.youtube.com/watch?v=J5aC1Mn7_N8&list=PL3izGL6oi0S_zXasgxccctQLNhIyVT_5o&t=0s',\n",
       " 'https://www.youtube.com/watch?v=0Km8Dbo2rBQ&list=PL3izGL6oi0S_zXasgxccctQLNhIyVT_5o&t=0s',\n",
       " 'https://www.youtube.com/watch?v=A-nnMgyENWw&list=PL3izGL6oi0S_zXasgxccctQLNhIyVT_5o&t=0s',\n",
       " 'https://www.youtube.com/watch?v=TnoBYkrHZQA&list=PL3izGL6oi0S_zXasgxccctQLNhIyVT_5o&t=0s']"
      ]
     },
     "execution_count": 9,
     "metadata": {},
     "output_type": "execute_result"
    }
   ],
   "source": [
    "pl_urls"
   ]
  },
  {
   "cell_type": "markdown",
   "metadata": {},
   "source": [
    "## Using an online youtube downloader to download the videos\n",
    "\n",
    "en.savefrom.net"
   ]
  },
  {
   "cell_type": "code",
   "execution_count": 21,
   "metadata": {},
   "outputs": [],
   "source": [
    "from bs4 import BeautifulSoup\n",
    "from selenium  import webdriver\n",
    "from selenium.webdriver.common.keys import Keys\n",
    "import time"
   ]
  },
  {
   "cell_type": "code",
   "execution_count": 43,
   "metadata": {},
   "outputs": [],
   "source": [
    "def download_video(url_list):\n",
    "    url='https://en.savefrom.net/20/'\n",
    "    driver = webdriver.Chrome(\"C:/driver/chromedriver.exe\")\n",
    "    driver.get(url)\n",
    "    time.sleep(2)\n",
    "    for i in url_list:\n",
    "        #select and enter the youtube link in the textbox\n",
    "        input_text=driver.find_element_by_id('sf_url')\n",
    "        input_text.send_keys(i)\n",
    "        time.sleep(1)\n",
    "        input_text.send_keys(Keys.ENTER)\n",
    "        time.sleep(5)\n",
    "        #click on the download link\n",
    "        download_button=driver.find_element_by_id('sf_result').find_element_by_class_name(\n",
    "            'link-box').find_element_by_class_name('def-btn-box')\n",
    "        download_button.click()\n",
    "        time.sleep(1)\n",
    "        "
   ]
  },
  {
   "cell_type": "code",
   "execution_count": 44,
   "metadata": {},
   "outputs": [
    {
     "ename": "ElementClickInterceptedException",
     "evalue": "Message: element click intercepted: Element <div class=\"def-btn-box\">...</div> is not clickable at point (508, 349). Other element would receive the click: <div class=\"modal-text-cont\">...</div>\n  (Session info: chrome=91.0.4472.106)\n",
     "output_type": "error",
     "traceback": [
      "\u001b[1;31m---------------------------------------------------------------------------\u001b[0m",
      "\u001b[1;31mElementClickInterceptedException\u001b[0m          Traceback (most recent call last)",
      "\u001b[1;32m<ipython-input-44-9a675817a4e7>\u001b[0m in \u001b[0;36m<module>\u001b[1;34m\u001b[0m\n\u001b[1;32m----> 1\u001b[1;33m \u001b[0mdownload_video\u001b[0m\u001b[1;33m(\u001b[0m\u001b[0mpl_urls\u001b[0m\u001b[1;33m)\u001b[0m\u001b[1;33m\u001b[0m\u001b[1;33m\u001b[0m\u001b[0m\n\u001b[0m",
      "\u001b[1;32m<ipython-input-43-cc976131be44>\u001b[0m in \u001b[0;36mdownload_video\u001b[1;34m(url_list)\u001b[0m\n\u001b[0;32m     14\u001b[0m         download_button=driver.find_element_by_id('sf_result').find_element_by_class_name(\n\u001b[0;32m     15\u001b[0m             'link-box').find_element_by_class_name('def-btn-box')\n\u001b[1;32m---> 16\u001b[1;33m         \u001b[0mdownload_button\u001b[0m\u001b[1;33m.\u001b[0m\u001b[0mclick\u001b[0m\u001b[1;33m(\u001b[0m\u001b[1;33m)\u001b[0m\u001b[1;33m\u001b[0m\u001b[1;33m\u001b[0m\u001b[0m\n\u001b[0m\u001b[0;32m     17\u001b[0m         \u001b[0mtime\u001b[0m\u001b[1;33m.\u001b[0m\u001b[0msleep\u001b[0m\u001b[1;33m(\u001b[0m\u001b[1;36m1\u001b[0m\u001b[1;33m)\u001b[0m\u001b[1;33m\u001b[0m\u001b[1;33m\u001b[0m\u001b[0m\n\u001b[0;32m     18\u001b[0m \u001b[1;33m\u001b[0m\u001b[0m\n",
      "\u001b[1;32m~\\Anaconda3\\lib\\site-packages\\selenium\\webdriver\\remote\\webelement.py\u001b[0m in \u001b[0;36mclick\u001b[1;34m(self)\u001b[0m\n\u001b[0;32m     78\u001b[0m     \u001b[1;32mdef\u001b[0m \u001b[0mclick\u001b[0m\u001b[1;33m(\u001b[0m\u001b[0mself\u001b[0m\u001b[1;33m)\u001b[0m\u001b[1;33m:\u001b[0m\u001b[1;33m\u001b[0m\u001b[1;33m\u001b[0m\u001b[0m\n\u001b[0;32m     79\u001b[0m         \u001b[1;34m\"\"\"Clicks the element.\"\"\"\u001b[0m\u001b[1;33m\u001b[0m\u001b[1;33m\u001b[0m\u001b[0m\n\u001b[1;32m---> 80\u001b[1;33m         \u001b[0mself\u001b[0m\u001b[1;33m.\u001b[0m\u001b[0m_execute\u001b[0m\u001b[1;33m(\u001b[0m\u001b[0mCommand\u001b[0m\u001b[1;33m.\u001b[0m\u001b[0mCLICK_ELEMENT\u001b[0m\u001b[1;33m)\u001b[0m\u001b[1;33m\u001b[0m\u001b[1;33m\u001b[0m\u001b[0m\n\u001b[0m\u001b[0;32m     81\u001b[0m \u001b[1;33m\u001b[0m\u001b[0m\n\u001b[0;32m     82\u001b[0m     \u001b[1;32mdef\u001b[0m \u001b[0msubmit\u001b[0m\u001b[1;33m(\u001b[0m\u001b[0mself\u001b[0m\u001b[1;33m)\u001b[0m\u001b[1;33m:\u001b[0m\u001b[1;33m\u001b[0m\u001b[1;33m\u001b[0m\u001b[0m\n",
      "\u001b[1;32m~\\Anaconda3\\lib\\site-packages\\selenium\\webdriver\\remote\\webelement.py\u001b[0m in \u001b[0;36m_execute\u001b[1;34m(self, command, params)\u001b[0m\n\u001b[0;32m    631\u001b[0m             \u001b[0mparams\u001b[0m \u001b[1;33m=\u001b[0m \u001b[1;33m{\u001b[0m\u001b[1;33m}\u001b[0m\u001b[1;33m\u001b[0m\u001b[1;33m\u001b[0m\u001b[0m\n\u001b[0;32m    632\u001b[0m         \u001b[0mparams\u001b[0m\u001b[1;33m[\u001b[0m\u001b[1;34m'id'\u001b[0m\u001b[1;33m]\u001b[0m \u001b[1;33m=\u001b[0m \u001b[0mself\u001b[0m\u001b[1;33m.\u001b[0m\u001b[0m_id\u001b[0m\u001b[1;33m\u001b[0m\u001b[1;33m\u001b[0m\u001b[0m\n\u001b[1;32m--> 633\u001b[1;33m         \u001b[1;32mreturn\u001b[0m \u001b[0mself\u001b[0m\u001b[1;33m.\u001b[0m\u001b[0m_parent\u001b[0m\u001b[1;33m.\u001b[0m\u001b[0mexecute\u001b[0m\u001b[1;33m(\u001b[0m\u001b[0mcommand\u001b[0m\u001b[1;33m,\u001b[0m \u001b[0mparams\u001b[0m\u001b[1;33m)\u001b[0m\u001b[1;33m\u001b[0m\u001b[1;33m\u001b[0m\u001b[0m\n\u001b[0m\u001b[0;32m    634\u001b[0m \u001b[1;33m\u001b[0m\u001b[0m\n\u001b[0;32m    635\u001b[0m     \u001b[1;32mdef\u001b[0m \u001b[0mfind_element\u001b[0m\u001b[1;33m(\u001b[0m\u001b[0mself\u001b[0m\u001b[1;33m,\u001b[0m \u001b[0mby\u001b[0m\u001b[1;33m=\u001b[0m\u001b[0mBy\u001b[0m\u001b[1;33m.\u001b[0m\u001b[0mID\u001b[0m\u001b[1;33m,\u001b[0m \u001b[0mvalue\u001b[0m\u001b[1;33m=\u001b[0m\u001b[1;32mNone\u001b[0m\u001b[1;33m)\u001b[0m\u001b[1;33m:\u001b[0m\u001b[1;33m\u001b[0m\u001b[1;33m\u001b[0m\u001b[0m\n",
      "\u001b[1;32m~\\Anaconda3\\lib\\site-packages\\selenium\\webdriver\\remote\\webdriver.py\u001b[0m in \u001b[0;36mexecute\u001b[1;34m(self, driver_command, params)\u001b[0m\n\u001b[0;32m    319\u001b[0m         \u001b[0mresponse\u001b[0m \u001b[1;33m=\u001b[0m \u001b[0mself\u001b[0m\u001b[1;33m.\u001b[0m\u001b[0mcommand_executor\u001b[0m\u001b[1;33m.\u001b[0m\u001b[0mexecute\u001b[0m\u001b[1;33m(\u001b[0m\u001b[0mdriver_command\u001b[0m\u001b[1;33m,\u001b[0m \u001b[0mparams\u001b[0m\u001b[1;33m)\u001b[0m\u001b[1;33m\u001b[0m\u001b[1;33m\u001b[0m\u001b[0m\n\u001b[0;32m    320\u001b[0m         \u001b[1;32mif\u001b[0m \u001b[0mresponse\u001b[0m\u001b[1;33m:\u001b[0m\u001b[1;33m\u001b[0m\u001b[1;33m\u001b[0m\u001b[0m\n\u001b[1;32m--> 321\u001b[1;33m             \u001b[0mself\u001b[0m\u001b[1;33m.\u001b[0m\u001b[0merror_handler\u001b[0m\u001b[1;33m.\u001b[0m\u001b[0mcheck_response\u001b[0m\u001b[1;33m(\u001b[0m\u001b[0mresponse\u001b[0m\u001b[1;33m)\u001b[0m\u001b[1;33m\u001b[0m\u001b[1;33m\u001b[0m\u001b[0m\n\u001b[0m\u001b[0;32m    322\u001b[0m             response['value'] = self._unwrap_value(\n\u001b[0;32m    323\u001b[0m                 response.get('value', None))\n",
      "\u001b[1;32m~\\Anaconda3\\lib\\site-packages\\selenium\\webdriver\\remote\\errorhandler.py\u001b[0m in \u001b[0;36mcheck_response\u001b[1;34m(self, response)\u001b[0m\n\u001b[0;32m    240\u001b[0m                 \u001b[0malert_text\u001b[0m \u001b[1;33m=\u001b[0m \u001b[0mvalue\u001b[0m\u001b[1;33m[\u001b[0m\u001b[1;34m'alert'\u001b[0m\u001b[1;33m]\u001b[0m\u001b[1;33m.\u001b[0m\u001b[0mget\u001b[0m\u001b[1;33m(\u001b[0m\u001b[1;34m'text'\u001b[0m\u001b[1;33m)\u001b[0m\u001b[1;33m\u001b[0m\u001b[1;33m\u001b[0m\u001b[0m\n\u001b[0;32m    241\u001b[0m             \u001b[1;32mraise\u001b[0m \u001b[0mexception_class\u001b[0m\u001b[1;33m(\u001b[0m\u001b[0mmessage\u001b[0m\u001b[1;33m,\u001b[0m \u001b[0mscreen\u001b[0m\u001b[1;33m,\u001b[0m \u001b[0mstacktrace\u001b[0m\u001b[1;33m,\u001b[0m \u001b[0malert_text\u001b[0m\u001b[1;33m)\u001b[0m\u001b[1;33m\u001b[0m\u001b[1;33m\u001b[0m\u001b[0m\n\u001b[1;32m--> 242\u001b[1;33m         \u001b[1;32mraise\u001b[0m \u001b[0mexception_class\u001b[0m\u001b[1;33m(\u001b[0m\u001b[0mmessage\u001b[0m\u001b[1;33m,\u001b[0m \u001b[0mscreen\u001b[0m\u001b[1;33m,\u001b[0m \u001b[0mstacktrace\u001b[0m\u001b[1;33m)\u001b[0m\u001b[1;33m\u001b[0m\u001b[1;33m\u001b[0m\u001b[0m\n\u001b[0m\u001b[0;32m    243\u001b[0m \u001b[1;33m\u001b[0m\u001b[0m\n\u001b[0;32m    244\u001b[0m     \u001b[1;32mdef\u001b[0m \u001b[0m_value_or_default\u001b[0m\u001b[1;33m(\u001b[0m\u001b[0mself\u001b[0m\u001b[1;33m,\u001b[0m \u001b[0mobj\u001b[0m\u001b[1;33m,\u001b[0m \u001b[0mkey\u001b[0m\u001b[1;33m,\u001b[0m \u001b[0mdefault\u001b[0m\u001b[1;33m)\u001b[0m\u001b[1;33m:\u001b[0m\u001b[1;33m\u001b[0m\u001b[1;33m\u001b[0m\u001b[0m\n",
      "\u001b[1;31mElementClickInterceptedException\u001b[0m: Message: element click intercepted: Element <div class=\"def-btn-box\">...</div> is not clickable at point (508, 349). Other element would receive the click: <div class=\"modal-text-cont\">...</div>\n  (Session info: chrome=91.0.4472.106)\n"
     ]
    }
   ],
   "source": [
    "download_video(pl_urls)"
   ]
  },
  {
   "cell_type": "code",
   "execution_count": null,
   "metadata": {},
   "outputs": [],
   "source": []
  }
 ],
 "metadata": {
  "kernelspec": {
   "display_name": "Python 3",
   "language": "python",
   "name": "python3"
  },
  "language_info": {
   "codemirror_mode": {
    "name": "ipython",
    "version": 3
   },
   "file_extension": ".py",
   "mimetype": "text/x-python",
   "name": "python",
   "nbconvert_exporter": "python",
   "pygments_lexer": "ipython3",
   "version": "3.8.3"
  }
 },
 "nbformat": 4,
 "nbformat_minor": 4
}
